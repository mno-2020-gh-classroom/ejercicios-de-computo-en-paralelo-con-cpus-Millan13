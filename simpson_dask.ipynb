{
 "cells": [
  {
   "cell_type": "markdown",
   "metadata": {},
   "source": [
    "### **REGLA COMPUESTA DE SIMPSON UTILIZANDO DASK**"
   ]
  },
  {
   "cell_type": "code",
   "execution_count": 1,
   "metadata": {},
   "outputs": [],
   "source": [
    "import dask\n",
    "import math\n",
    "import multiprocessing\n",
    "import time\n",
    "from concurrent.futures import ProcessPoolExecutor\n",
    "from dask.distributed import Client\n",
    "from scipy.integrate import quad"
   ]
  },
  {
   "cell_type": "code",
   "execution_count": 2,
   "metadata": {},
   "outputs": [],
   "source": [
    "# Definición de los parámetros a utilizar en ambas formas: secuencial y paralelo\n",
    "\n",
    "f = lambda x: math.exp(-x**2) #función a integrar\n",
    "a = 0 #extremo izquierdo del intervalo en donde se desea calcular la integral\n",
    "b = 1 #extremo derecho del intervalo en donde se desea calcular la integral\n",
    "n = 4*10**6 #número de subintervalos\n",
    "h_hat = (b-a)/n #tamaño del subintervalo"
   ]
  },
  {
   "cell_type": "code",
   "execution_count": 3,
   "metadata": {},
   "outputs": [
    {
     "data": {
      "text/plain": [
       "0.7468241328124271"
      ]
     },
     "execution_count": 3,
     "metadata": {},
     "output_type": "execute_result"
    }
   ],
   "source": [
    "# Valor real de la integral de la función\n",
    "\n",
    "obj, err = quad(f,a,b)\n",
    "obj"
   ]
  },
  {
   "cell_type": "code",
   "execution_count": 4,
   "metadata": {},
   "outputs": [
    {
     "data": {
      "text/html": [
       "<table style=\"border: 2px solid white;\">\n",
       "<tr>\n",
       "<td style=\"vertical-align: top; border: 0px solid white\">\n",
       "<h3>Client</h3>\n",
       "<ul>\n",
       "  <li><b>Scheduler: </b>tcp://127.0.0.1:33443\n",
       "  <li><b>Dashboard: </b><a href='http://127.0.0.1:8787/status' target='_blank'>http://127.0.0.1:8787/status</a>\n",
       "</ul>\n",
       "</td>\n",
       "<td style=\"vertical-align: top; border: 0px solid white\">\n",
       "<h3>Cluster</h3>\n",
       "<ul>\n",
       "  <li><b>Workers: </b>4</li>\n",
       "  <li><b>Cores: </b>4</li>\n",
       "  <li><b>Memory: </b>8.23 GB</li>\n",
       "</ul>\n",
       "</td>\n",
       "</tr>\n",
       "</table>"
      ],
      "text/plain": [
       "<Client: scheduler='tcp://127.0.0.1:33443' processes=4 cores=4>"
      ]
     },
     "execution_count": 4,
     "metadata": {},
     "output_type": "execute_result"
    }
   ],
   "source": [
    "# Creación del \"distributed scheduler\" a través de Client\n",
    "\n",
    "client = Client()\n",
    "client"
   ]
  },
  {
   "cell_type": "markdown",
   "metadata": {},
   "source": [
    "**FORMA SECUENCIAL**"
   ]
  },
  {
   "cell_type": "code",
   "execution_count": 5,
   "metadata": {},
   "outputs": [],
   "source": [
    "# Variables auxiliares para la creación de nodos\n",
    "begin = 1\n",
    "end = 2*n"
   ]
  },
  {
   "cell_type": "code",
   "execution_count": 6,
   "metadata": {},
   "outputs": [
    {
     "name": "stdout",
     "output_type": "stream",
     "text": [
      "1\n",
      "3\n",
      "5\n",
      "7\n",
      "9\n",
      "11\n",
      "13\n",
      "15\n"
     ]
    }
   ],
   "source": [
    "'''\n",
    "# Prueba para creación de nodos impares, es decir, los que se multiplican por 4\n",
    "for i in range(begin,end,2):\n",
    "    print(i)\n",
    "'''"
   ]
  },
  {
   "cell_type": "code",
   "execution_count": 7,
   "metadata": {},
   "outputs": [
    {
     "name": "stdout",
     "output_type": "stream",
     "text": [
      "2\n",
      "4\n",
      "6\n",
      "8\n",
      "10\n",
      "12\n",
      "14\n"
     ]
    }
   ],
   "source": [
    "'''\n",
    "# Prueba para creación de nodos pares, es decir, los que se multiplican por 2\n",
    "for i in range(begin+1,end,2):\n",
    "    print(i)\n",
    "'''"
   ]
  },
  {
   "cell_type": "code",
   "execution_count": 6,
   "metadata": {},
   "outputs": [],
   "source": [
    "def Simpson_compuesta(f,a,b,n):\n",
    "    \n",
    "    '''\n",
    "Calcula la aproximación numérica utilizando al regla compuesta de Simpson.\n",
    "Los nodos son generados a través de la fórmula: x_i = a + i/2 * h_hat, en donde:\n",
    "i = 0,1,2,...,2n y h_hat = (b-a)/n\n",
    "\n",
    "\n",
    "Args:\n",
    "f (expresión lambda): función lambda a integrar\n",
    "a(int): extremo izquierdo del intervalo en donde se desea evaluar la integral\n",
    "b(int): extremo derecho del intervalo en donde se desea evaluar la integral\n",
    "n(int): número de subintervalos, debe ser un número par\n",
    "\n",
    "Return:\n",
    "Simpson_compuesta(float)\n",
    "''' \n",
    "    begin = 1\n",
    "    end = 2*n\n",
    "    \n",
    "    h_hat = (b-a)/n\n",
    "    \n",
    "    sum2 = 0\n",
    "    sum4 = 0\n",
    "    \n",
    "    # el siguiente loop considera las sumas de los términos que son multiplicados por 2\n",
    "    for i in range(begin+1,end,2):\n",
    "        x = a + i/2 * h_hat\n",
    "        sum2 += f(x)\n",
    "    \n",
    "    sum2 = 2 *sum2\n",
    "    \n",
    "    # el siguiente loop considera las sumas de los términos que son multiplicados por 4\n",
    "    for i in range(begin,end,2):\n",
    "        x = a + i/2 * h_hat\n",
    "        sum4 += f(x)\n",
    "        \n",
    "    sum4 = 4 * sum4\n",
    "    \n",
    "    return h_hat/6 * (f(a) + f(b) + sum2 + sum4)"
   ]
  },
  {
   "cell_type": "code",
   "execution_count": 7,
   "metadata": {},
   "outputs": [],
   "source": [
    "'''\n",
    "Calcula el tiempo de ejecución en segundos de una función utilizando el método time.time()\n",
    "\n",
    "Arg:\n",
    "funcion: función a la que se desea calcular tiempo de ejecución\n",
    "\n",
    "Return:\n",
    "tiempo_ejecucion(float)\n",
    "'''\n",
    "\n",
    "def calcular_tiempo(funcion):\n",
    "    start_time = time.time()\n",
    "    aprox = f\n",
    "    end_time = time.time()\n",
    "    tiempo = end_time - start_time\n",
    "    print('Tiempo de ejecución de Simpson Compuesta: ',tiempo)"
   ]
  },
  {
   "cell_type": "code",
   "execution_count": 8,
   "metadata": {},
   "outputs": [
    {
     "name": "stdout",
     "output_type": "stream",
     "text": [
      "Tiempo de ejecución de Simpson Compuesta:  4.76837158203125e-07\n"
     ]
    }
   ],
   "source": [
    "calcular_tiempo(Simpson_compuesta(f,a,b,n))"
   ]
  },
  {
   "cell_type": "code",
   "execution_count": 9,
   "metadata": {},
   "outputs": [
    {
     "name": "stdout",
     "output_type": "stream",
     "text": [
      "CPU times: user 3.04 s, sys: 18.9 ms, total: 3.05 s\n",
      "Wall time: 3.03 s\n"
     ]
    }
   ],
   "source": [
    "%%time\n",
    "aprox = Simpson_compuesta(f,a,b,n)"
   ]
  },
  {
   "cell_type": "code",
   "execution_count": 10,
   "metadata": {},
   "outputs": [],
   "source": [
    "'''\n",
    "Calcula el error relativo entre el valor real y el valor aproximadao\n",
    "\n",
    "Arg:S\n",
    "aprox(float): valor obtenido en la aproximación numérica\n",
    "obj (float): valor real \n",
    "\n",
    "Return:\n",
    "error_relativo(float)\n",
    "'''\n",
    "\n",
    "def error_relativo(aprox, obj):\n",
    "    return math.fabs(aprox-obj)/math.fabs(obj)"
   ]
  },
  {
   "cell_type": "code",
   "execution_count": 11,
   "metadata": {},
   "outputs": [
    {
     "data": {
      "text/plain": [
       "5.946369303542584e-16"
      ]
     },
     "execution_count": 11,
     "metadata": {},
     "output_type": "execute_result"
    }
   ],
   "source": [
    "error_relativo(aprox,obj)"
   ]
  },
  {
   "cell_type": "markdown",
   "metadata": {},
   "source": [
    "**FORMA PARALELO**"
   ]
  },
  {
   "cell_type": "code",
   "execution_count": 12,
   "metadata": {},
   "outputs": [],
   "source": [
    "# Definición de parámetros utilizados únicamente en la forma paralelo\n",
    "\n",
    "\n",
    "p = multiprocessing.cpu_count() #número de CPUs en el sistema\n",
    "ns_p = int(n/p) #número de subintervalos por proceso, si n (número de subintervalos) no es divisible por p, entonces se toma int(n/p) y se redefine n\n",
    "n = p*ns_p # re-definición de n conforme al número de subintervalos por proceso\n",
    "h_hat = (b-a)/n # re-definición del tamaño de los intervalos conforme al nuevo valor de n\n"
   ]
  },
  {
   "cell_type": "code",
   "execution_count": 13,
   "metadata": {},
   "outputs": [
    {
     "name": "stdout",
     "output_type": "stream",
     "text": [
      "número de CPU's (p): 4\n",
      "número de subintervalos (n): 4000000\n",
      "número de subintervalos por CPU (ns_p): 1000000\n"
     ]
    }
   ],
   "source": [
    "print(\"número de CPU's (p):\",p)\n",
    "print(\"número de subintervalos (n):\",n)\n",
    "print(\"número de subintervalos por CPU (ns_p):\",ns_p)"
   ]
  },
  {
   "cell_type": "code",
   "execution_count": 16,
   "metadata": {},
   "outputs": [
    {
     "name": "stdout",
     "output_type": "stream",
     "text": [
      "CPU: 0\n",
      "  desde subintervalo: 1\n",
      "  hasta: 2\n",
      "-----nodo: 2\n",
      "-----nodo: 4\n",
      "CPU: 1\n",
      "  desde subintervalo: 3\n",
      "  hasta: 4\n",
      "-----nodo: 6\n",
      "-----nodo: 8\n",
      "CPU: 2\n",
      "  desde subintervalo: 5\n",
      "  hasta: 6\n",
      "-----nodo: 10\n",
      "-----nodo: 12\n",
      "CPU: 3\n",
      "  desde subintervalo: 7\n",
      "  hasta: 8\n",
      "-----nodo: 14\n",
      "-----nodo: 16\n"
     ]
    }
   ],
   "source": [
    "'''\n",
    "# Prueba de asignación de nodos pares(los que se multiplican por 4) a cada proceso \n",
    "\n",
    "for i in range(p):\n",
    "    begin = i*ns_p + 1\n",
    "    end = begin -1 + ns_p\n",
    "    print('CPU:',i)\n",
    "    print('  desde subintervalo:',begin)\n",
    "    print('  hasta:',end)\n",
    "    for k in range(2*begin, 2*end+1, 2):\n",
    "        print('-----nodo:',k)\n",
    "'''"
   ]
  },
  {
   "cell_type": "code",
   "execution_count": 17,
   "metadata": {},
   "outputs": [
    {
     "name": "stdout",
     "output_type": "stream",
     "text": [
      "CPU: 0\n",
      "  desde subintervalo: 1\n",
      "  hasta: 2\n",
      "-----nodo: 1\n",
      "-----nodo: 3\n",
      "CPU: 1\n",
      "  desde subintervalo: 3\n",
      "  hasta: 4\n",
      "-----nodo: 5\n",
      "-----nodo: 7\n",
      "CPU: 2\n",
      "  desde subintervalo: 5\n",
      "  hasta: 6\n",
      "-----nodo: 9\n",
      "-----nodo: 11\n",
      "CPU: 3\n",
      "  desde subintervalo: 7\n",
      "  hasta: 8\n",
      "-----nodo: 13\n",
      "-----nodo: 15\n"
     ]
    }
   ],
   "source": [
    "'''\n",
    "# Prueba de asignación de nodos impares (multiplicados por 4) a cada proceso\n",
    "\n",
    "for i in range(p):\n",
    "    begin = i*ns_p + 1\n",
    "    end = begin -1 + ns_p\n",
    "    print('CPU:',i)\n",
    "    print('  desde subintervalo:',begin)\n",
    "    print('  hasta:',end)\n",
    "    for k in range(2*begin-1, 2*end, 2):\n",
    "        print('-----nodo:',k)\n",
    "'''"
   ]
  },
  {
   "cell_type": "code",
   "execution_count": 14,
   "metadata": {},
   "outputs": [],
   "source": [
    "'''\n",
    "Calcula la aproximación numérica de los últimos tres términos de la regla compuesta de Simpson\n",
    "Los nodos son generados a través de la fórmula: x_i = a + i/2 * h_hat, en donde:\n",
    "i = 1,2,...,2n y h_hat = (b-a)/n\n",
    "\n",
    "\n",
    "Args:\n",
    "mi_id(int): id de cada CPU en el sistema, se obtiene a través de range(multiprocessing.count())\n",
    "f (expresión lambda): función lambda a integrar\n",
    "a(int): extremo izquierdo del intervalo en donde se desea evaluar la integral\n",
    "b(int): extremo derecho del intervalo en donde se desea evaluar la integral\n",
    "n(int): número de subintervalos, debe ser un número par\n",
    "ns_p(int): número de subintervalos por proceso\n",
    "\n",
    "\n",
    "Return:\n",
    "Simpson_compuesta(float)\n",
    "''' \n",
    "def Simpson_truncada(mi_id,f,a,b,n,ns_p):\n",
    "    \n",
    "    #ns_p = int(n/p) #número de subintervalos por proceso, si n (número de subintervalos) no es divisible por p, entonces se toma int(n/p) y se redefine n\n",
    "    #n = p*ns_p\n",
    "    \n",
    "    h_hat = (b-a)/n\n",
    "    \n",
    "    begin = mi_id*ns_p + 1\n",
    "    end = begin -1 + ns_p\n",
    "    \n",
    "    sum2 = 0\n",
    "    sum4 = 0\n",
    "    \n",
    "    # el siguiente loop considera las sumas de los términos que son multiplicados por 2\n",
    "    for i in range(2*begin, 2*end+1, 2):\n",
    "        x = a + i/2 * h_hat\n",
    "        sum2 += f(x)\n",
    "    \n",
    "    sum2 = 2 *sum2\n",
    "    \n",
    "    # el siguiente loop considera las sumas de los términos que son multiplicados por 4\n",
    "    for i in range(2*begin-1, 2*end, 2):\n",
    "        x = a + i/2 * h_hat\n",
    "        sum4 += f(x)\n",
    "        \n",
    "    sum4 = 4 * sum4\n",
    "    \n",
    "    return sum2 + sum4"
   ]
  },
  {
   "cell_type": "code",
   "execution_count": 15,
   "metadata": {},
   "outputs": [],
   "source": [
    "'''\n",
    "Calcula la aproximación numérica de la regla compuesta de Simpson\n",
    "\n",
    "Args:\n",
    "cl: Client obtenido a través de Client()\n",
    "'''\n",
    "\n",
    "def Simpson_compuesta_paralelo(cl):\n",
    "    futures_evalua = client.map(Simpson_truncada,range(p),\n",
    "                           **{'f':f,\n",
    "                              'a':a,\n",
    "                              'b':b,\n",
    "                              'n':n,\n",
    "                              'ns_p':ns_p}\n",
    "                           )\n",
    "\n",
    "    results = client.gather(futures_evalua)\n",
    "    return h_hat/6 * (f(a) - f(b) + sum(results))"
   ]
  },
  {
   "cell_type": "code",
   "execution_count": 16,
   "metadata": {},
   "outputs": [
    {
     "name": "stdout",
     "output_type": "stream",
     "text": [
      "Tiempo de ejecución de Simpson Compuesta:  2.384185791015625e-07\n"
     ]
    }
   ],
   "source": [
    "calcular_tiempo(Simpson_compuesta_paralelo(client))"
   ]
  },
  {
   "cell_type": "code",
   "execution_count": 17,
   "metadata": {},
   "outputs": [
    {
     "name": "stdout",
     "output_type": "stream",
     "text": [
      "CPU times: user 124 ms, sys: 16.4 ms, total: 140 ms\n",
      "Wall time: 2.15 s\n"
     ]
    }
   ],
   "source": [
    "%%time\n",
    "aprox = Simpson_compuesta_paralelo(client)"
   ]
  },
  {
   "cell_type": "code",
   "execution_count": 18,
   "metadata": {},
   "outputs": [
    {
     "data": {
      "text/plain": [
       "1.516324172403359e-14"
      ]
     },
     "execution_count": 18,
     "metadata": {},
     "output_type": "execute_result"
    }
   ],
   "source": [
    "error_relativo(aprox,obj)"
   ]
  },
  {
   "cell_type": "code",
   "execution_count": 19,
   "metadata": {},
   "outputs": [],
   "source": [
    "client.close()"
   ]
  },
  {
   "cell_type": "markdown",
   "metadata": {},
   "source": [
    "Se realizaron pruebas utilizando tanto la forma secuencial como la forma en paralelo de la regla compuesta de Simpson; y se varió el número de nodos obteniéndose los siguientes resultados:\n",
    "\n",
    "\n",
    "| Tipo       | n     | time.time() | user    | sys     | total   | wall   |\n",
    "|------------|-------|-------------|---------|---------|---------|--------|\n",
    "| Secuencial | 8     | 0.23 $\\mu s$     | 78 $\\mu s$     | 0       | 78 $\\mu s$      | 91.6 $\\mu s$   |\n",
    "| Paralelo   | 8     | 0.23 $\\mu s$     | 40.1 $ms$ | 2.12 $ms$ | 42.2 $ms$ | 55 $ms$  |\n",
    "| Secuencial | 4x10⁶ | 0.47 $\\mu s$     | 3.12 $s$  | 0     | 3.12 $s$  | 31 $s$   |\n",
    "| Paralelo   | 4x10⁶ | 0.23 $\\mu s$     | 148 $ms$  | 12.6 $ms$ | 160 $ms$  | 2.19 $s$ |\n",
    "\n",
    "\n",
    "Se puede concluir que al utilizar un número pequeño de subintervalos, la forma Secuencial es más rápida que la forma en Paralelo; sin embargo a aumentar el número de subintervalos a un orden de millones, el comportamiento se invierte es decir, la forma en Paralelo es más rápida que la forma Secuencial.\n",
    "\n",
    "Adicional, al considerar 8 subintervalos, se obtiene un error relativo del orden de $10^{-7}$; mientras que al aumentar el número de subintervalos a $4x10^{6}$, el error relativo disminuye a un orden de $10^{-14}$."
   ]
  },
  {
   "cell_type": "code",
   "execution_count": null,
   "metadata": {},
   "outputs": [],
   "source": []
  }
 ],
 "metadata": {
  "kernelspec": {
   "display_name": "Python 3",
   "language": "python",
   "name": "python3"
  },
  "language_info": {
   "codemirror_mode": {
    "name": "ipython",
    "version": 3
   },
   "file_extension": ".py",
   "mimetype": "text/x-python",
   "name": "python",
   "nbconvert_exporter": "python",
   "pygments_lexer": "ipython3",
   "version": "3.7.3"
  }
 },
 "nbformat": 4,
 "nbformat_minor": 4
}
