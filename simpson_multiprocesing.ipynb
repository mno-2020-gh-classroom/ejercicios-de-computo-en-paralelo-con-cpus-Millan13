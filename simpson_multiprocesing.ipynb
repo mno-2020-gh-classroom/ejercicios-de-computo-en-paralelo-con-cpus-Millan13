{
 "cells": [
  {
   "cell_type": "markdown",
   "metadata": {},
   "source": [
    "De forma sencilla se puede ver que la regla compuesta de Simpson compuesta $S_c(f)$ se escribe como:\n",
    "\n",
    "$$S_c(f) = \\displaystyle \\frac{h}{3(2n)} \\left [ f(x_0) + f(x_{2n}) + 2 \\sum_{i=1}^{n-1}f(x_{2i}) + 4 \\sum_{i=1}^{n}f(x_{2i-1})\\right ] $$\n",
    "con $h=b-a$ y $n$ número de subintervalos.\n",
    "\n",
    "Nota: Los nodos para el caso de Simpson se obtienen con la fórmula: $x_i = a +\\frac{i}{2}\\hat{h}, \\forall i=0,\\dots,2n, \\hat{h}=\\frac{h}{n}$.\n",
    "\n",
    "Lo siguiente sirve de ayuda. Consideramos un caso de $n=6$ subintervalos, $2n+1=13$ nodos de $x_0$ a $x_{12}$. Los siguientes índices de los nodos se multiplican por 4 y son los índices que el subproceso 0 trabajará:"
   ]
  },
  {
   "cell_type": "code",
   "execution_count": 1,
   "metadata": {},
   "outputs": [],
   "source": [
    "begin=1\n",
    "end=6"
   ]
  },
  {
   "cell_type": "code",
   "execution_count": 2,
   "metadata": {},
   "outputs": [
    {
     "name": "stdout",
     "output_type": "stream",
     "text": [
      "1\n",
      "3\n",
      "5\n"
     ]
    }
   ],
   "source": [
    "for i in range(begin,end+1,2):\n",
    "    print(i)"
   ]
  },
  {
   "cell_type": "markdown",
   "metadata": {},
   "source": [
    "Los siguientes índices de los nodos se multiplican por 2 y son los índices que el subproceso 0 trabajará:"
   ]
  },
  {
   "cell_type": "code",
   "execution_count": 3,
   "metadata": {},
   "outputs": [
    {
     "name": "stdout",
     "output_type": "stream",
     "text": [
      "2\n",
      "4\n",
      "6\n"
     ]
    }
   ],
   "source": [
    "for i in range(begin+1,end+1,2):\n",
    "    print(i)"
   ]
  },
  {
   "cell_type": "code",
   "execution_count": 4,
   "metadata": {},
   "outputs": [],
   "source": [
    "begin=7\n",
    "end=12"
   ]
  },
  {
   "cell_type": "markdown",
   "metadata": {},
   "source": [
    "Los siguientes índices se multiplican por 4 y son los índices que el subproceso 1 trabajará:"
   ]
  },
  {
   "cell_type": "code",
   "execution_count": 5,
   "metadata": {},
   "outputs": [
    {
     "name": "stdout",
     "output_type": "stream",
     "text": [
      "7\n",
      "9\n",
      "11\n"
     ]
    }
   ],
   "source": [
    "for i in range(begin,end+1,2):\n",
    "    print(i)"
   ]
  },
  {
   "cell_type": "markdown",
   "metadata": {},
   "source": [
    "\n",
    "Los siguientes índices se multiplican por 2 y son los índices que el subproceso 1 trabajará:"
   ]
  },
  {
   "cell_type": "code",
   "execution_count": 6,
   "metadata": {},
   "outputs": [
    {
     "name": "stdout",
     "output_type": "stream",
     "text": [
      "8\n",
      "10\n",
      "12\n"
     ]
    }
   ],
   "source": [
    "for i in range(begin+1,end+1,2):\n",
    "    print(i)"
   ]
  },
  {
   "cell_type": "code",
   "execution_count": 7,
   "metadata": {},
   "outputs": [],
   "source": [
    "import math\n",
    "from multiprocessing import Pool \n",
    "from scipy.integrate import quad\n",
    "import time\n",
    "import multiprocessing as mp"
   ]
  },
  {
   "cell_type": "markdown",
   "metadata": {},
   "source": [
    "**¿Qué restricciones se deben colocar a las variables $n, ns\\text{_}p$ y $p$ para que el programa siguiente obtenga resultados correctos?**\n",
    "\n",
    "\n",
    "+ $n$ deber ser par y debe ser divisible por p\n",
    "+ $p$ debe ser múltiplo de n\n",
    "+ $ns\\text{_}p$ debe ser entero"
   ]
  },
  {
   "cell_type": "markdown",
   "metadata": {},
   "source": [
    "por ejemplo si pruebas con $n=6, p=2, ns\\text{_}p=6$ obtienes un error relativo de $10^{-7}$."
   ]
  },
  {
   "cell_type": "code",
   "execution_count": 8,
   "metadata": {},
   "outputs": [],
   "source": [
    "a=0\n",
    "b=1\n",
    "h=b-a\n",
    "f=lambda x: math.exp(-x**2)"
   ]
  },
  {
   "cell_type": "code",
   "execution_count": 9,
   "metadata": {},
   "outputs": [],
   "source": [
    "p=2 #número de subprocesos a lanzar"
   ]
  },
  {
   "cell_type": "code",
   "execution_count": 10,
   "metadata": {},
   "outputs": [],
   "source": [
    "#n=10**4 #número de subintervalos a lanzar\n",
    "n=6\n",
    "h_hat=h/n"
   ]
  },
  {
   "cell_type": "code",
   "execution_count": 11,
   "metadata": {},
   "outputs": [],
   "source": [
    "nt=2*n #variable de apoyo para definir ns_p\n",
    "ns_p=nt/p"
   ]
  },
  {
   "cell_type": "code",
   "execution_count": 12,
   "metadata": {},
   "outputs": [
    {
     "data": {
      "text/plain": [
       "12"
      ]
     },
     "execution_count": 12,
     "metadata": {},
     "output_type": "execute_result"
    }
   ],
   "source": [
    "nt"
   ]
  },
  {
   "cell_type": "code",
   "execution_count": 13,
   "metadata": {},
   "outputs": [
    {
     "data": {
      "text/plain": [
       "6.0"
      ]
     },
     "execution_count": 13,
     "metadata": {},
     "output_type": "execute_result"
    }
   ],
   "source": [
    "ns_p"
   ]
  },
  {
   "cell_type": "code",
   "execution_count": 14,
   "metadata": {},
   "outputs": [],
   "source": [
    "ns_p=int(ns_p)\n"
   ]
  },
  {
   "cell_type": "code",
   "execution_count": 15,
   "metadata": {},
   "outputs": [],
   "source": [
    "def Scf_parallel(mi_id):\n",
    "    \"\"\"\n",
    "    Compute numerical approximation using Simpson rule in an interval\n",
    "    Nodes are generated via formula: x_i = a+i/2*h_hat for i=0,1,...,2n and h_hat=(b-a)/n\n",
    "    n must be an even number\n",
    "    Args:\n",
    "        mi_id (in): id of subprocess: 0,1,2,...\n",
    "    \"\"\"\n",
    "    begin = (mi_id*ns_p)+1\n",
    "    end = begin-1+ns_p\n",
    "    sum1=0\n",
    "    #next for loop considers sum that is multiplied by 4 in the expression\n",
    "    for i in range(begin,end+1,2):\n",
    "        x = a+i/2*h_hat\n",
    "        sum1+=f(x)\n",
    "    sum1=4*sum1\n",
    "    sum2=0\n",
    "    #next for loop considers sum that is multiplied by 2 in the expression\n",
    "    for i in range(begin+1,end+1,2):\n",
    "        x = a+i/2*h_hat\n",
    "        sum2+=f(x)\n",
    "    sum2=2*sum2\n",
    "    return sum1+sum2\n",
    "\n",
    "if __name__=='__main__':\n",
    "    start_time=time.time()\n",
    "    with Pool(processes=p) as pool:\n",
    "        results = pool.map(Scf_parallel,range(p))\n",
    "        aprox=h/(6*n)*(f(a)+sum(results)-f(b)) \n",
    "    end_time=time.time()"
   ]
  },
  {
   "cell_type": "markdown",
   "metadata": {},
   "source": [
    "**En el bloque del with ¿por qué tenemos que dividir por $\\frac{}{6n}$ en lugar de por $\\frac{}{3n}$ y por qué tenemos que restar $f(b)$?**\n",
    "\n",
    "+ Se debe multiplicar por $6n$ porque conforme a la fórmula que se muestra al principio, se debe considerar el máximo índice de los nodos, el cuál se obtiene al multiplicar $2n$.\n",
    "\n",
    "+ El segundo loop que considera los nodos pares, multiplica la función evaluada en cada nodo por 2, es decir, $2f(x_{2i})$. En este loop se está considerando el último nodo $x_{12}$, que corresponde al extremo derecho del intervalo en donde se desea evaluar la integral, entonces $x_{12}=b$. Por lo tanto $f(b)$ está siendo siendo multiplicado por 2, lo que implica que se suma dos veces; sin embargo la fórmula indica que la función evaluada en los nodos extremos solamente debe sumarse una vez. De ahí que $f(b)$ deba ser restada en el bloque del with."
   ]
  },
  {
   "cell_type": "code",
   "execution_count": 16,
   "metadata": {},
   "outputs": [
    {
     "data": {
      "text/plain": [
       "0.7468245263791945"
      ]
     },
     "execution_count": 16,
     "metadata": {},
     "output_type": "execute_result"
    }
   ],
   "source": [
    "aprox"
   ]
  },
  {
   "cell_type": "code",
   "execution_count": 17,
   "metadata": {},
   "outputs": [],
   "source": [
    "obj, err = quad(f, a, b)"
   ]
  },
  {
   "cell_type": "code",
   "execution_count": 18,
   "metadata": {},
   "outputs": [
    {
     "data": {
      "text/plain": [
       "0.7468241328124271"
      ]
     },
     "execution_count": 18,
     "metadata": {},
     "output_type": "execute_result"
    }
   ],
   "source": [
    "obj"
   ]
  },
  {
   "cell_type": "code",
   "execution_count": 19,
   "metadata": {},
   "outputs": [],
   "source": [
    "def err_relativo(aprox, obj):\n",
    "    return math.fabs(aprox-obj)/math.fabs(obj) #obsérvese el uso de la librería math"
   ]
  },
  {
   "cell_type": "code",
   "execution_count": 20,
   "metadata": {},
   "outputs": [
    {
     "data": {
      "text/plain": [
       "5.26987211722925e-07"
      ]
     },
     "execution_count": 20,
     "metadata": {},
     "output_type": "execute_result"
    }
   ],
   "source": [
    "err_relativo(aprox,obj)"
   ]
  },
  {
   "cell_type": "markdown",
   "metadata": {},
   "source": [
    "**¿Qué pasa si $n$ no es par? ¿qué tendríamos que modificar en la implemmentación si no es par?**\n",
    "\n",
    "**tip: haz una prueba con $n=5$ subintervalos y por tanto $2n+1=11$ nodos. Entonces $\\hat{h}=\\frac{1}{5}$ y considera extremo izquierdo y derecho $a=0,b=1$. Luego genera los nodos con la fórmula $x_i=a+\\frac{i}{2}\\hat{h}$, $i=0,...,2n$ ($2n=10$) y considera por ejemplo $p=2$ subprocesos. Checa cuáles sumas se les tiene que multiplicar por 2 y por 4. Luego distribuye en partes iguales así como está la implementación anterior en los dos subprocesos. Revisa cómo quedan distribuidos los nodos en los dos subprocesos y cómo inician los for loops ¿se multiplican correctamente los sumandos por 2 y por 4 en cada subproceso con la definición de begin y end de cada loop?**"
   ]
  },
  {
   "cell_type": "markdown",
   "metadata": {},
   "source": [
    "Conforme a las sugerencias arriba mencionadas, consideremos los siguientes parámetros:"
   ]
  },
  {
   "cell_type": "code",
   "execution_count": 21,
   "metadata": {},
   "outputs": [
    {
     "name": "stdout",
     "output_type": "stream",
     "text": [
      "número de intervalos: 5\n",
      "número de subprocesos: 2\n",
      "tamaño de subintervalo(h_hat): 0.2\n",
      "nodos por subproceso: 5\n"
     ]
    }
   ],
   "source": [
    "a = 0\n",
    "b = 1\n",
    "n = 5\n",
    "p = 2\n",
    "h = b-a\n",
    "h_hat = h/n\n",
    "nt = 2*n #variable de apoyo para definir ns_p\n",
    "ns_p = int(nt/p)\n",
    "\n",
    "print('número de intervalos:',n)\n",
    "print('número de subprocesos:',p)\n",
    "print('tamaño de subintervalo(h_hat):',h_hat)\n",
    "print('nodos por subproceso:',ns_p)"
   ]
  },
  {
   "cell_type": "markdown",
   "metadata": {},
   "source": [
    "De acuerdo con estos parámetros, los índices con los que debería trabajar cada subproceso son los siguientes:"
   ]
  },
  {
   "cell_type": "code",
   "execution_count": 22,
   "metadata": {},
   "outputs": [
    {
     "name": "stdout",
     "output_type": "stream",
     "text": [
      "Subproceso 0\n",
      "--Nodos que se multiplican por 4:\n",
      "   1\n",
      "   3\n",
      "   5\n",
      "--Nodos que se multiplican por 2:\n",
      "   2\n",
      "   4\n",
      "\n",
      "Subproceso 1\n",
      "--Nodos que se multiplican por 4:\n",
      "   7\n",
      "   9\n",
      "--Nodos que se multiplican por 2:\n",
      "   6\n",
      "   8\n",
      "   10\n"
     ]
    }
   ],
   "source": [
    "# Subproceso 0, nodos que se multiplican por 4\n",
    "\n",
    "begin = 1\n",
    "end = 5\n",
    "\n",
    "print('Subproceso 0')\n",
    "print('--Nodos que se multiplican por 4:')\n",
    "for i in range(begin,end+1,2):\n",
    "    print('  ',i)\n",
    "print('--Nodos que se multiplican por 2:')\n",
    "for i in range(begin+1,end,2):\n",
    "    print('  ',i)\n",
    "\n",
    "print('\\nSubproceso 1')\n",
    "print('--Nodos que se multiplican por 4:')\n",
    "begin = 6\n",
    "end = 10\n",
    "\n",
    "for i in range(begin+1,end+1,2):\n",
    "    print('  ',i)\n",
    "print('--Nodos que se multiplican por 2:')\n",
    "for i in range(begin,end+1,2):\n",
    "    print('  ',i)"
   ]
  },
  {
   "cell_type": "markdown",
   "metadata": {},
   "source": [
    "Revisemos ahora las siguientes líneas de código que corresponden a los índices de los nodos en la función Scf_parallel:"
   ]
  },
  {
   "cell_type": "code",
   "execution_count": 23,
   "metadata": {},
   "outputs": [
    {
     "name": "stdout",
     "output_type": "stream",
     "text": [
      "\n",
      "Subproceso: 0\n",
      "  desde subintervalo: 1\n",
      "  hasta: 5\n",
      "     nodos multiplicados por 4\n",
      "-----nodo: 1\n",
      "-----nodo: 3\n",
      "-----nodo: 5\n",
      "     nodos multiplicados por 2\n",
      "-----nodo: 2\n",
      "-----nodo: 4\n",
      "\n",
      "Subproceso: 1\n",
      "  desde subintervalo: 6\n",
      "  hasta: 10\n",
      "     nodos multiplicados por 4\n",
      "-----nodo: 6\n",
      "-----nodo: 8\n",
      "-----nodo: 10\n",
      "     nodos multiplicados por 2\n",
      "-----nodo: 7\n",
      "-----nodo: 9\n"
     ]
    }
   ],
   "source": [
    "# Prueba de funcionamiento de loops en la función Scf_parallel para nodos pares e impares \n",
    "\n",
    "for i in range(p):\n",
    "    begin = (i*ns_p) + 1\n",
    "    end = begin -1 + ns_p\n",
    "    print('\\nSubproceso:',i)\n",
    "    print('  desde subintervalo:',begin)\n",
    "    print('  hasta:',end)\n",
    "    print('     nodos multiplicados por 4')\n",
    "    for k in range(begin, end+1, 2):\n",
    "        print('-----nodo:',k)\n",
    "    print('     nodos multiplicados por 2')\n",
    "    for k in range(begin+1, end+1, 2):\n",
    "        print('-----nodo:',k)"
   ]
  },
  {
   "cell_type": "markdown",
   "metadata": {},
   "source": [
    "Como se puede observar, en el subproceso 0 los nodos impares son multiplicados por 4 y los pares son multiplicados por 2. En cambio, en el subproceso 1, los nodos pares son multiplicados por 4 y los impares por 2. Por lo tanto, no es correcta la forma en que se están asignando los índices en el subproceso 1.\n",
    "\n",
    "\n",
    "Una forma de solucionar lo anterior podría ser redefiniendo el valor de begin (el cual indica el nodo a partir del cual cada subproceso empezará a trabajar) conforme a lo siguiente:\n",
    "\n",
    "$begin = (mi_id * (ns\\text{_}p -1)) + 1$\n",
    "\n",
    "Utilizando esto en el ejemplo para n=5, el subproceso 0 trabajaría con los nodos del 1 al 5; y el subproceso 1 con los nodos del 5 al 9. En este caso ya no se consideran los nodos extremos 0 y 10, como se muestra en seguida:"
   ]
  },
  {
   "cell_type": "code",
   "execution_count": 24,
   "metadata": {},
   "outputs": [
    {
     "name": "stdout",
     "output_type": "stream",
     "text": [
      "\n",
      "Subproceso: 0\n",
      "  desde nodo: 1\n",
      "  hasta nodo: 5\n",
      "     nodos multiplicados por 4:\n",
      "-----nodo: 1\n",
      "-----nodo: 3\n",
      "-----nodo: 5\n",
      "     nodos multiplicados por 2:\n",
      "-----nodo: 2\n",
      "-----nodo: 4\n",
      "\n",
      "Subproceso: 1\n",
      "  desde nodo: 5\n",
      "  hasta nodo: 9\n",
      "     nodos multiplicados por 4:\n",
      "-----nodo: 5\n",
      "-----nodo: 7\n",
      "-----nodo: 9\n",
      "     nodos multiplicados por 2:\n",
      "-----nodo: 6\n",
      "-----nodo: 8\n"
     ]
    }
   ],
   "source": [
    "# Prueba de modificación de loops para nodos pares e impares\n",
    "\n",
    "for i in range(p):\n",
    "    begin = (i*(ns_p-1))+1\n",
    "    end = begin -1 + ns_p\n",
    "    print('\\nSubproceso:',i)\n",
    "    print('  desde nodo:',begin)\n",
    "    print('  hasta nodo:',end)\n",
    "    print('     nodos multiplicados por 4:')\n",
    "    for k in range(begin, end+1, 2):\n",
    "        print('-----nodo:',k)\n",
    "    print('     nodos multiplicados por 2:')\n",
    "    for k in range(begin+1, end+1, 2):\n",
    "        print('-----nodo:',k)"
   ]
  },
  {
   "cell_type": "markdown",
   "metadata": {},
   "source": [
    "Notemos que en cada subproceso los nodos pares serán mutiplicados por 4 y los impares serán multiplicados por 2; sin embargo como el final del subproceso 0 es el nodo 5; y este mismo es el incio del suproceso 1, el nodo 5 es calculado en ambos procesos. Este nodo debe contribuir solamente una vez a la suma final. Por lo tanto, las modificaciones que deben realizarse a la función son las siguientes:\n",
    "\n",
    "1. La variable begin debe modificarse conforme a $begin = (mi_id * (ns\\text{_}p -1)) + 1 $\n",
    "2. Definir el nodo 5, que de forma general corresponde a definir el nodo de en medio.\n",
    "3. La evaluación del nodo 5, que es el nodo que queda justo en medio debe ser restada una vez al final del loop que incluye los nodos impares (los que son multiplicados por 4).\n",
    "4. La variable **aprox** será calculada conforme a la fórmula original, es decir ya no deberá restarse $f(b)$, más bien deberá sumarse, porque los loops ya no incluyen al nodo final $f(b)$: $aprox = \\frac{h}{6n}(f(a)+sum(results)+f(b))$"
   ]
  },
  {
   "cell_type": "code",
   "execution_count": 25,
   "metadata": {},
   "outputs": [],
   "source": [
    "def Scf_parallel_impares(mi_id):\n",
    "    \"\"\"\n",
    "    Compute numerical approximation using Simpson rule in an interval\n",
    "    Nodes are generated via formula: x_i = a+i/2*h_hat for i=0,1,...,2n and h_hat=(b-a)/n\n",
    "    n must be an even number\n",
    "    Args:\n",
    "        mi_id (in): id of subprocess: 0,1,2,...\n",
    "    \"\"\"\n",
    "    # 1. Modificación de begin\n",
    "    begin = (mi_id*(ns_p-1))+1\n",
    "    end = begin-1+ns_p\n",
    "    # 2. Definición del nodo de en medio\n",
    "    x_medio = a+n/2*h_hat\n",
    "    sum1=0\n",
    "    \n",
    "    #next for loop considers sum that is multiplied by 4 in the expression\n",
    "    for i in range(begin,end+1,2):\n",
    "        x = a+i/2*h_hat\n",
    "        sum1+=f(x)\n",
    "    # 3. Evaluación de f en x_medio y resta de la suma final\n",
    "    f_medio = f(x_medio)\n",
    "    sum1=4*(sum1-f_medio)\n",
    "    sum2=0\n",
    "    \n",
    "    #next for loop considers sum that is multiplied by 2 in the expression\n",
    "    for i in range(begin+1,end+1,2):\n",
    "        x = a+i/2*h_hat\n",
    "        sum2+=f(x)\n",
    "    sum2=2*sum2\n",
    "    return sum1+sum2\n",
    "\n",
    "if __name__=='__main__':\n",
    "    start_time=time.time()\n",
    "    with Pool(processes=p) as pool:\n",
    "        results = pool.map(Scf_parallel_impares,range(p))\n",
    "        #4. Modificación de la variable aprox conforme a la fórmula original\n",
    "        aprox=h/(6*n)*(f(a)+sum(results)+f(b)) \n",
    "    end_time=time.time()"
   ]
  },
  {
   "cell_type": "code",
   "execution_count": 26,
   "metadata": {},
   "outputs": [
    {
     "data": {
      "text/plain": [
       "0.6429848438449228"
      ]
     },
     "execution_count": 26,
     "metadata": {},
     "output_type": "execute_result"
    }
   ],
   "source": [
    "aprox"
   ]
  },
  {
   "cell_type": "code",
   "execution_count": 27,
   "metadata": {},
   "outputs": [
    {
     "data": {
      "text/plain": [
       "0.1390411536066211"
      ]
     },
     "execution_count": 27,
     "metadata": {},
     "output_type": "execute_result"
    }
   ],
   "source": [
    "err_relativo(aprox,obj)"
   ]
  },
  {
   "cell_type": "markdown",
   "metadata": {},
   "source": [
    "Se observa que para 5 subintervalos, el error relativo es de 0.13. Al incrementar el número de intervalos, este error disminuye, como se muestra en seguida:"
   ]
  },
  {
   "cell_type": "code",
   "execution_count": 28,
   "metadata": {},
   "outputs": [
    {
     "name": "stdout",
     "output_type": "stream",
     "text": [
      "número de intervalos: 10005\n",
      "número de subprocesos: 2\n",
      "tamaño de subintervalo(h_hat): 9.995002498750625e-05\n",
      "nodos por subproceso: 10005\n"
     ]
    }
   ],
   "source": [
    "n = 10005\n",
    "p = 2\n",
    "h = b-a\n",
    "h_hat = h/n\n",
    "nt = 2*n #variable de apoyo para definir ns_p\n",
    "ns_p = int(nt/p)\n",
    "\n",
    "print('número de intervalos:',n)\n",
    "print('número de subprocesos:',p)\n",
    "print('tamaño de subintervalo(h_hat):',h_hat)\n",
    "print('nodos por subproceso:',ns_p)"
   ]
  },
  {
   "cell_type": "code",
   "execution_count": 29,
   "metadata": {},
   "outputs": [],
   "source": [
    "def Scf_parallel_impares(mi_id):\n",
    "    \"\"\"\n",
    "    Compute numerical approximation using Simpson rule in an interval\n",
    "    Nodes are generated via formula: x_i = a+i/2*h_hat for i=0,1,...,2n and h_hat=(b-a)/n\n",
    "    n must be an even number\n",
    "    Args:\n",
    "        mi_id (in): id of subprocess: 0,1,2,...\n",
    "    \"\"\"\n",
    "    # 1. Modificación de begin\n",
    "    begin = (mi_id*(ns_p-1))+1\n",
    "    end = begin-1+ns_p\n",
    "    # 2. Definición del nodo de en medio\n",
    "    x_medio = a+n/2*h_hat\n",
    "    sum1=0\n",
    "    \n",
    "    #next for loop considers sum that is multiplied by 4 in the expression\n",
    "    for i in range(begin,end+1,2):\n",
    "        x = a+i/2*h_hat\n",
    "        sum1+=f(x)\n",
    "    # 3. Evaluación de f en x_medio y resta de la suma final\n",
    "    f_medio = f(x_medio)\n",
    "    sum1=4*(sum1-f_medio)\n",
    "    sum2=0\n",
    "    \n",
    "    #next for loop considers sum that is multiplied by 2 in the expression\n",
    "    for i in range(begin+1,end+1,2):\n",
    "        x = a+i/2*h_hat\n",
    "        sum2+=f(x)\n",
    "    sum2=2*sum2\n",
    "    return sum1+sum2\n",
    "\n",
    "if __name__=='__main__':\n",
    "    start_time=time.time()\n",
    "    with Pool(processes=p) as pool:\n",
    "        results = pool.map(Scf_parallel_impares,range(p))\n",
    "        #4. Modificación de la variable aprox conforme a la fórmula original\n",
    "        aprox=h/(6*n)*(f(a)+sum(results)+f(b)) \n",
    "    end_time=time.time()"
   ]
  },
  {
   "cell_type": "code",
   "execution_count": 30,
   "metadata": {},
   "outputs": [
    {
     "data": {
      "text/plain": [
       "0.7467722387072734"
      ]
     },
     "execution_count": 30,
     "metadata": {},
     "output_type": "execute_result"
    }
   ],
   "source": [
    "aprox"
   ]
  },
  {
   "cell_type": "code",
   "execution_count": 31,
   "metadata": {},
   "outputs": [
    {
     "data": {
      "text/plain": [
       "6.948637955537197e-05"
      ]
     },
     "execution_count": 31,
     "metadata": {},
     "output_type": "execute_result"
    }
   ],
   "source": [
    "err_relativo(aprox,obj)"
   ]
  }
 ],
 "metadata": {
  "kernelspec": {
   "display_name": "Python 3",
   "language": "python",
   "name": "python3"
  },
  "language_info": {
   "codemirror_mode": {
    "name": "ipython",
    "version": 3
   },
   "file_extension": ".py",
   "mimetype": "text/x-python",
   "name": "python",
   "nbconvert_exporter": "python",
   "pygments_lexer": "ipython3",
   "version": "3.7.3"
  }
 },
 "nbformat": 4,
 "nbformat_minor": 4
}
